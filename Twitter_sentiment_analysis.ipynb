{
 "cells": [
  {
   "cell_type": "code",
   "execution_count": 1,
   "id": "5dbfc0dd",
   "metadata": {},
   "outputs": [],
   "source": [
    "import pandas as pd\n",
    "import numpy as np\n",
    "from sklearn.feature_extraction.text import CountVectorizer\n",
    "from sklearn.model_selection import train_test_split\n",
    "from sklearn.tree import DecisionTreeClassifier\n",
    "import re\n",
    "import nltk\n",
    "import nltk"
   ]
  },
  {
   "cell_type": "code",
   "execution_count": 2,
   "id": "6839ae3e",
   "metadata": {},
   "outputs": [
    {
     "name": "stdout",
     "output_type": "stream",
     "text": [
      "   Unnamed: 0             Unnamed: 1  \\\n",
      "0         NaN                user_id   \n",
      "1         NaN             3031528348   \n",
      "2         NaN  1225800000000000000.0   \n",
      "3         NaN  1394360000000000000.0   \n",
      "4         NaN   982157000000000000.0   \n",
      "\n",
      "                                          Unnamed: 2 Unnamed: 3  \n",
      "0                                              tweet   language  \n",
      "1  @merjaya I urge you to stop contributing into ...         en  \n",
      "2  Russia to ban sunflower seed exports and impos...         en  \n",
      "3  @nathaliejacoby1 On Russia-Trump Saga in 2016 ...         en  \n",
      "4  It turns out that people living on islands &am...         en  \n"
     ]
    }
   ],
   "source": [
    "df = pd.read_excel (r'C:\\Users\\MAYANK\\Downloads\\War Sentiment Analysis.xlsx', sheet_name='Data')\n",
    "print(df.head())"
   ]
  },
  {
   "cell_type": "code",
   "execution_count": 3,
   "id": "0bf7c2c8",
   "metadata": {},
   "outputs": [
    {
     "name": "stdout",
     "output_type": "stream",
     "text": [
      "0                user_id                                              tweet  \\\n",
      "1             3031528348  @merjaya I urge you to stop contributing into ...   \n",
      "2  1225800000000000000.0  Russia to ban sunflower seed exports and impos...   \n",
      "3  1394360000000000000.0  @nathaliejacoby1 On Russia-Trump Saga in 2016 ...   \n",
      "4   982157000000000000.0  It turns out that people living on islands &am...   \n",
      "5              199448306  Russia Attacks Ukraine - LIVE BREAKING NEWS CO...   \n",
      "\n",
      "0 language  \n",
      "1       en  \n",
      "2       en  \n",
      "3       en  \n",
      "4       en  \n",
      "5       en  \n"
     ]
    }
   ],
   "source": [
    "new_header = df.iloc[0]\n",
    "df = df[1:]\n",
    "df.columns = new_header\n",
    "df.dropna(how='all', axis=1, inplace=True)\n",
    "print(df.head())"
   ]
  },
  {
   "cell_type": "code",
   "execution_count": 4,
   "id": "1aa6750b",
   "metadata": {},
   "outputs": [
    {
     "name": "stdout",
     "output_type": "stream",
     "text": [
      "0                user_id                                              tweet  \\\n",
      "1             3031528348  @merjaya I urge you to stop contributing into ...   \n",
      "2  1225800000000000000.0  Russia to ban sunflower seed exports and impos...   \n",
      "3  1394360000000000000.0  @nathaliejacoby1 On Russia-Trump Saga in 2016 ...   \n",
      "4   982157000000000000.0  It turns out that people living on islands &am...   \n",
      "5              199448306  Russia Attacks Ukraine - LIVE BREAKING NEWS CO...   \n",
      "\n",
      "0 language  \n",
      "1       en  \n",
      "2       en  \n",
      "3       en  \n",
      "4       en  \n",
      "5       en  \n"
     ]
    }
   ],
   "source": [
    "df = df[df['language'] == 'en']\n",
    "print(df.head())"
   ]
  },
  {
   "cell_type": "code",
   "execution_count": 5,
   "id": "8c7f2f6f",
   "metadata": {},
   "outputs": [
    {
     "name": "stderr",
     "output_type": "stream",
     "text": [
      "[nltk_data] Downloading package stopwords to\n",
      "[nltk_data]     C:\\Users\\MAYANK\\AppData\\Roaming\\nltk_data...\n",
      "[nltk_data]   Package stopwords is already up-to-date!\n"
     ]
    }
   ],
   "source": [
    "nltk.download('stopwords')\n",
    "stemmer = nltk.SnowballStemmer(\"english\")\n",
    "from nltk.corpus import stopwords\n",
    "import string\n",
    "stopword=set(stopwords.words('english'))\n",
    "\n",
    "def clean(text):\n",
    "    text = str(text).lower()\n",
    "    text = re.sub('\\[.*?\\]', '', text)\n",
    "    text = re.sub('https?://\\S+|www\\.\\S+', '', text)\n",
    "    text = re.sub('<.*?>+', '', text)\n",
    "    text = re.sub('[%s]' % re.escape(string.punctuation), '', text)\n",
    "    text = re.sub('\\n', '', text)\n",
    "    text = re.sub('\\w*\\d\\w*', '', text)\n",
    "    text = [word for word in text.split(' ') if word not in stopword]\n",
    "    text=\" \".join(text)\n",
    "    text = [stemmer.stem(word) for word in text.split(' ')]\n",
    "    text=\" \".join(text)\n",
    "    return text\n",
    "df[\"tweet\"] = df[\"tweet\"].apply(clean)"
   ]
  },
  {
   "cell_type": "code",
   "execution_count": 6,
   "id": "d2b18e21",
   "metadata": {},
   "outputs": [
    {
     "name": "stderr",
     "output_type": "stream",
     "text": [
      "[nltk_data] Downloading package vader_lexicon to\n",
      "[nltk_data]     C:\\Users\\MAYANK\\AppData\\Roaming\\nltk_data...\n",
      "[nltk_data]   Package vader_lexicon is already up-to-date!\n"
     ]
    }
   ],
   "source": [
    "from nltk.sentiment.vader import SentimentIntensityAnalyzer\n",
    "nltk.download('vader_lexicon')\n",
    "sentiments = SentimentIntensityAnalyzer()\n",
    "df[\"Positive\"] = [sentiments.polarity_scores(i)[\"pos\"] for i in df[\"tweet\"]]\n",
    "df[\"Negative\"] = [sentiments.polarity_scores(i)[\"neg\"] for i in df[\"tweet\"]]\n",
    "df[\"Neutral\"] = [sentiments.polarity_scores(i)[\"neu\"] for i in df[\"tweet\"]]"
   ]
  },
  {
   "cell_type": "code",
   "execution_count": 7,
   "id": "2ec97280",
   "metadata": {},
   "outputs": [
    {
     "name": "stdout",
     "output_type": "stream",
     "text": [
      "0                                              tweet  Positive  Negative  \\\n",
      "1  merjaya urg stop contribut death innoc ukrain ...     0.144     0.314   \n",
      "2  russia ban sunflow seed export impos quota sun...     0.000     0.340   \n",
      "3   russiatrump saga  us elect one may say â€œlus...     0.000     0.040   \n",
      "4  turn peopl live island amp arent white savag a...     0.000     0.000   \n",
      "5  russia attack ukrain  live break news coverag ...     0.000     0.220   \n",
      "\n",
      "0  Neutral  \n",
      "1    0.541  \n",
      "2    0.660  \n",
      "3    0.960  \n",
      "4    1.000  \n",
      "5    0.780  \n"
     ]
    }
   ],
   "source": [
    "df = df[[\"tweet\", \"Positive\", \n",
    "             \"Negative\", \"Neutral\"]]\n",
    "print(df.head())"
   ]
  },
  {
   "cell_type": "code",
   "execution_count": 8,
   "id": "ad04fdc0",
   "metadata": {},
   "outputs": [
    {
     "name": "stdout",
     "output_type": "stream",
     "text": [
      "Neutral\n"
     ]
    }
   ],
   "source": [
    "x = sum(df[\"Positive\"])\n",
    "y = sum(df[\"Negative\"])\n",
    "z = sum(df[\"Neutral\"])\n",
    "\n",
    "def sentiment_score(a, b, c):\n",
    "    if (a>b) and (a>c):\n",
    "        print(\"Positive\")\n",
    "    elif (b>a) and (b>c):\n",
    "        print(\"Negative\")\n",
    "    else:\n",
    "        print(\"Neutral\")\n",
    "sentiment_score(x, y, z)"
   ]
  },
  {
   "cell_type": "code",
   "execution_count": 9,
   "id": "ea846b52",
   "metadata": {},
   "outputs": [
    {
     "name": "stdout",
     "output_type": "stream",
     "text": [
      "Positive:  792.539000000003\n",
      "Negative:  1228.5079999999941\n",
      "Neutral:  6461.984999999976\n"
     ]
    }
   ],
   "source": [
    "print(\"Positive: \", x)\n",
    "print(\"Negative: \", y)\n",
    "print(\"Neutral: \", z)"
   ]
  },
  {
   "cell_type": "code",
   "execution_count": null,
   "id": "8f4a7566",
   "metadata": {},
   "outputs": [],
   "source": []
  }
 ],
 "metadata": {
  "kernelspec": {
   "display_name": "Python 3 (ipykernel)",
   "language": "python",
   "name": "python3"
  },
  "language_info": {
   "codemirror_mode": {
    "name": "ipython",
    "version": 3
   },
   "file_extension": ".py",
   "mimetype": "text/x-python",
   "name": "python",
   "nbconvert_exporter": "python",
   "pygments_lexer": "ipython3",
   "version": "3.9.12"
  }
 },
 "nbformat": 4,
 "nbformat_minor": 5
}
